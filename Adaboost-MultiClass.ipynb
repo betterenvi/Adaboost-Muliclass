{
 "cells": [
  {
   "cell_type": "code",
   "execution_count": 35,
   "metadata": {
    "collapsed": true
   },
   "outputs": [],
   "source": [
    "import numpy as np\n",
    "import pandas as pd\n",
    "from sklearn.tree import DecisionTreeClassifier\n",
    "from pandas import Series, DataFrame\n",
    "from sklearn.cross_validation import train_test_split\n",
    "import matplotlib.pyplot as plt\n",
    "import string"
   ]
  },
  {
   "cell_type": "code",
   "execution_count": 2,
   "metadata": {
    "collapsed": false
   },
   "outputs": [],
   "source": [
    "train_fn = './Downloads/letter-recognition.data'\n",
    "data_col = ['letter','x-box','y-box','width','high','onpix','x-bar','y-bar',\n",
    "            'x2bar','y2bar','xybar','x2ybr','xy2br','x-ege','xegvy','y-ege','yegvx']\n",
    "X = pd.read_csv(train_fn, sep=',', header=None, names=data_col,\n",
    "                     skiprows=None, na_values='?', keep_default_na=False, engine='python')"
   ]
  },
  {
   "cell_type": "code",
   "execution_count": 3,
   "metadata": {
    "collapsed": false
   },
   "outputs": [
    {
     "data": {
      "text/plain": [
       "0    T\n",
       "1    I\n",
       "2    D\n",
       "3    N\n",
       "4    G\n",
       "Name: letter, dtype: object"
      ]
     },
     "execution_count": 3,
     "metadata": {},
     "output_type": "execute_result"
    }
   ],
   "source": [
    "y = X['letter']\n",
    "y.head()"
   ]
  },
  {
   "cell_type": "code",
   "execution_count": 4,
   "metadata": {
    "collapsed": false
   },
   "outputs": [
    {
     "data": {
      "text/plain": [
       "['x-box',\n",
       " 'y-box',\n",
       " 'width',\n",
       " 'high',\n",
       " 'onpix',\n",
       " 'x-bar',\n",
       " 'y-bar',\n",
       " 'x2bar',\n",
       " 'y2bar',\n",
       " 'xybar',\n",
       " 'x2ybr',\n",
       " 'xy2br',\n",
       " 'x-ege',\n",
       " 'xegvy',\n",
       " 'y-ege',\n",
       " 'yegvx']"
      ]
     },
     "execution_count": 4,
     "metadata": {},
     "output_type": "execute_result"
    }
   ],
   "source": [
    "cols = list(X)\n",
    "cols.pop(cols.index('letter'))\n",
    "cols"
   ]
  },
  {
   "cell_type": "code",
   "execution_count": 5,
   "metadata": {
    "collapsed": false
   },
   "outputs": [],
   "source": [
    "X = X[cols]"
   ]
  },
  {
   "cell_type": "code",
   "execution_count": 6,
   "metadata": {
    "collapsed": false
   },
   "outputs": [
    {
     "data": {
      "text/html": [
       "<div>\n",
       "<table border=\"1\" class=\"dataframe\">\n",
       "  <thead>\n",
       "    <tr style=\"text-align: right;\">\n",
       "      <th></th>\n",
       "      <th>x-box</th>\n",
       "      <th>y-box</th>\n",
       "      <th>width</th>\n",
       "      <th>high</th>\n",
       "      <th>onpix</th>\n",
       "      <th>x-bar</th>\n",
       "      <th>y-bar</th>\n",
       "      <th>x2bar</th>\n",
       "      <th>y2bar</th>\n",
       "      <th>xybar</th>\n",
       "      <th>x2ybr</th>\n",
       "      <th>xy2br</th>\n",
       "      <th>x-ege</th>\n",
       "      <th>xegvy</th>\n",
       "      <th>y-ege</th>\n",
       "      <th>yegvx</th>\n",
       "    </tr>\n",
       "  </thead>\n",
       "  <tbody>\n",
       "    <tr>\n",
       "      <th>0</th>\n",
       "      <td>2</td>\n",
       "      <td>8</td>\n",
       "      <td>3</td>\n",
       "      <td>5</td>\n",
       "      <td>1</td>\n",
       "      <td>8</td>\n",
       "      <td>13</td>\n",
       "      <td>0</td>\n",
       "      <td>6</td>\n",
       "      <td>6</td>\n",
       "      <td>10</td>\n",
       "      <td>8</td>\n",
       "      <td>0</td>\n",
       "      <td>8</td>\n",
       "      <td>0</td>\n",
       "      <td>8</td>\n",
       "    </tr>\n",
       "    <tr>\n",
       "      <th>1</th>\n",
       "      <td>5</td>\n",
       "      <td>12</td>\n",
       "      <td>3</td>\n",
       "      <td>7</td>\n",
       "      <td>2</td>\n",
       "      <td>10</td>\n",
       "      <td>5</td>\n",
       "      <td>5</td>\n",
       "      <td>4</td>\n",
       "      <td>13</td>\n",
       "      <td>3</td>\n",
       "      <td>9</td>\n",
       "      <td>2</td>\n",
       "      <td>8</td>\n",
       "      <td>4</td>\n",
       "      <td>10</td>\n",
       "    </tr>\n",
       "    <tr>\n",
       "      <th>2</th>\n",
       "      <td>4</td>\n",
       "      <td>11</td>\n",
       "      <td>6</td>\n",
       "      <td>8</td>\n",
       "      <td>6</td>\n",
       "      <td>10</td>\n",
       "      <td>6</td>\n",
       "      <td>2</td>\n",
       "      <td>6</td>\n",
       "      <td>10</td>\n",
       "      <td>3</td>\n",
       "      <td>7</td>\n",
       "      <td>3</td>\n",
       "      <td>7</td>\n",
       "      <td>3</td>\n",
       "      <td>9</td>\n",
       "    </tr>\n",
       "    <tr>\n",
       "      <th>3</th>\n",
       "      <td>7</td>\n",
       "      <td>11</td>\n",
       "      <td>6</td>\n",
       "      <td>6</td>\n",
       "      <td>3</td>\n",
       "      <td>5</td>\n",
       "      <td>9</td>\n",
       "      <td>4</td>\n",
       "      <td>6</td>\n",
       "      <td>4</td>\n",
       "      <td>4</td>\n",
       "      <td>10</td>\n",
       "      <td>6</td>\n",
       "      <td>10</td>\n",
       "      <td>2</td>\n",
       "      <td>8</td>\n",
       "    </tr>\n",
       "    <tr>\n",
       "      <th>4</th>\n",
       "      <td>2</td>\n",
       "      <td>1</td>\n",
       "      <td>3</td>\n",
       "      <td>1</td>\n",
       "      <td>1</td>\n",
       "      <td>8</td>\n",
       "      <td>6</td>\n",
       "      <td>6</td>\n",
       "      <td>6</td>\n",
       "      <td>6</td>\n",
       "      <td>5</td>\n",
       "      <td>9</td>\n",
       "      <td>1</td>\n",
       "      <td>7</td>\n",
       "      <td>5</td>\n",
       "      <td>10</td>\n",
       "    </tr>\n",
       "  </tbody>\n",
       "</table>\n",
       "</div>"
      ],
      "text/plain": [
       "   x-box  y-box  width  high  onpix  x-bar  y-bar  x2bar  y2bar  xybar  x2ybr  \\\n",
       "0      2      8      3     5      1      8     13      0      6      6     10   \n",
       "1      5     12      3     7      2     10      5      5      4     13      3   \n",
       "2      4     11      6     8      6     10      6      2      6     10      3   \n",
       "3      7     11      6     6      3      5      9      4      6      4      4   \n",
       "4      2      1      3     1      1      8      6      6      6      6      5   \n",
       "\n",
       "   xy2br  x-ege  xegvy  y-ege  yegvx  \n",
       "0      8      0      8      0      8  \n",
       "1      9      2      8      4     10  \n",
       "2      7      3      7      3      9  \n",
       "3     10      6     10      2      8  \n",
       "4      9      1      7      5     10  "
      ]
     },
     "execution_count": 6,
     "metadata": {},
     "output_type": "execute_result"
    }
   ],
   "source": [
    "X.head()"
   ]
  },
  {
   "cell_type": "code",
   "execution_count": 21,
   "metadata": {
    "collapsed": false
   },
   "outputs": [
    {
     "data": {
      "text/plain": [
       "0    T\n",
       "1    I\n",
       "2    D\n",
       "3    N\n",
       "4    G\n",
       "Name: letter, dtype: object"
      ]
     },
     "execution_count": 21,
     "metadata": {},
     "output_type": "execute_result"
    }
   ],
   "source": [
    "X_train = X[:16000]\n",
    "X_test = X[16000:20000]\n",
    "y_train = y[:16000]\n",
    "y_test = y[16000:20000]\n",
    "y_train.head()"
   ]
  },
  {
   "cell_type": "code",
   "execution_count": 75,
   "metadata": {
    "collapsed": false
   },
   "outputs": [],
   "source": [
    "def models_N_weights(X, y, M, k):\n",
    "    model = []\n",
    "    model_weights = []\n",
    "    training_errors = []\n",
    "   \n",
    "    N = X.shape[0]\n",
    "    w = np.ones(N) / N\n",
    "\n",
    "    for m in range(M):\n",
    "        h = DecisionTreeClassifier(max_depth=5)\n",
    "        h.fit(X, y, sample_weight=w)\n",
    "        pred = h.predict(X)\n",
    "        \n",
    "        eps = w.dot(pred != y)\n",
    "        alpha = (np.log((1 - eps)*(k - 1)) - np.log(eps)) / 2\n",
    "        w_new = np.where(y == pred, w * np.exp(-alpha), w * np.exp(alpha))\n",
    "        w = w_new / w_new.sum()\n",
    "        \n",
    "        model.append(h)\n",
    "        model_weights.append(alpha)\n",
    "    \n",
    "    return [model, model_weights]\n"
   ]
  },
  {
   "cell_type": "code",
   "execution_count": 76,
   "metadata": {
    "collapsed": false
   },
   "outputs": [],
   "source": [
    "def predict_joined_models(X, model, model_weights, frame, m):\n",
    "    pred = model[m].predict(X)\n",
    "    for i, idx in enumerate(frame.index):\n",
    "        t = frame.get_value(idx, pred[i])\n",
    "        frame.set_value(idx, pred[i], t + model_weights[m])\n",
    "    #获取每行最大数据的列名\n",
    "    return frame.idxmax(axis=1)"
   ]
  },
  {
   "cell_type": "code",
   "execution_count": 77,
   "metadata": {
    "collapsed": false
   },
   "outputs": [],
   "source": [
    "def error_func(y, y_hat):\n",
    "    correct_pred = (np.array(y_hat) == np.array(y))\n",
    "    Err = 1 - float(sum(correct_pred))/len(correct_pred)\n",
    "    return Err"
   ]
  },
  {
   "cell_type": "code",
   "execution_count": 78,
   "metadata": {
    "collapsed": false
   },
   "outputs": [
    {
     "data": {
      "text/plain": [
       "0    H\n",
       "1    N\n",
       "2    V\n",
       "3    X\n",
       "4    N\n",
       "dtype: object"
      ]
     },
     "execution_count": 78,
     "metadata": {},
     "output_type": "execute_result"
    }
   ],
   "source": [
    "M = 50\n",
    "k = 26\n",
    "M_list = []\n",
    "train_err_list = []\n",
    "test_err_list = []\n",
    "N1= X_train.shape[0]\n",
    "frame1 = DataFrame(np.zeros([N1,26]),columns=list(string.uppercase))\n",
    "N2= X_test.shape[0]\n",
    "frame2 = DataFrame(np.zeros([N2,26]),columns=list(string.uppercase))\n",
    "\n",
    "model_fit = models_N_weights(X_train, y_train, M, k)\n",
    "for m in range(M):\n",
    "    y_hat = predict_joined_models(X_train, model_fit[0], model_fit[1], frame1, m)\n",
    "    err = error_func(y_train, y_hat)\n",
    "    train_err_list.append(err)\n",
    "    \n",
    "    y_hat = predict_joined_models(X_test, model_fit[0], model_fit[1], frame2, m)\n",
    "    err = error_func(y_test, y_hat)\n",
    "    test_err_list.append(err)\n",
    "    M_list.append(m)\n",
    "\n",
    "y_hat.head()"
   ]
  },
  {
   "cell_type": "code",
   "execution_count": 81,
   "metadata": {
    "collapsed": true
   },
   "outputs": [],
   "source": [
    "err_df = DataFrame({}, columns=['train', 'test'])"
   ]
  },
  {
   "cell_type": "code",
   "execution_count": 84,
   "metadata": {
    "collapsed": true
   },
   "outputs": [],
   "source": [
    "err_df['train'] = train_err_list\n",
    "err_df['test'] = test_err_list"
   ]
  },
  {
   "cell_type": "code",
   "execution_count": 85,
   "metadata": {
    "collapsed": false
   },
   "outputs": [
    {
     "data": {
      "text/html": [
       "<div>\n",
       "<table border=\"1\" class=\"dataframe\">\n",
       "  <thead>\n",
       "    <tr style=\"text-align: right;\">\n",
       "      <th></th>\n",
       "      <th>train</th>\n",
       "      <th>test</th>\n",
       "    </tr>\n",
       "  </thead>\n",
       "  <tbody>\n",
       "    <tr>\n",
       "      <th>0</th>\n",
       "      <td>0.629188</td>\n",
       "      <td>0.63725</td>\n",
       "    </tr>\n",
       "    <tr>\n",
       "      <th>1</th>\n",
       "      <td>0.679812</td>\n",
       "      <td>0.69825</td>\n",
       "    </tr>\n",
       "    <tr>\n",
       "      <th>2</th>\n",
       "      <td>0.606250</td>\n",
       "      <td>0.62250</td>\n",
       "    </tr>\n",
       "    <tr>\n",
       "      <th>3</th>\n",
       "      <td>0.531500</td>\n",
       "      <td>0.54350</td>\n",
       "    </tr>\n",
       "    <tr>\n",
       "      <th>4</th>\n",
       "      <td>0.495938</td>\n",
       "      <td>0.50550</td>\n",
       "    </tr>\n",
       "  </tbody>\n",
       "</table>\n",
       "</div>"
      ],
      "text/plain": [
       "      train     test\n",
       "0  0.629188  0.63725\n",
       "1  0.679812  0.69825\n",
       "2  0.606250  0.62250\n",
       "3  0.531500  0.54350\n",
       "4  0.495938  0.50550"
      ]
     },
     "execution_count": 85,
     "metadata": {},
     "output_type": "execute_result"
    }
   ],
   "source": [
    "err_df.head()"
   ]
  },
  {
   "cell_type": "code",
   "execution_count": 86,
   "metadata": {
    "collapsed": false
   },
   "outputs": [
    {
     "data": {
      "text/html": [
       "<div>\n",
       "<table border=\"1\" class=\"dataframe\">\n",
       "  <thead>\n",
       "    <tr style=\"text-align: right;\">\n",
       "      <th></th>\n",
       "      <th>train</th>\n",
       "      <th>test</th>\n",
       "    </tr>\n",
       "  </thead>\n",
       "  <tbody>\n",
       "    <tr>\n",
       "      <th>45</th>\n",
       "      <td>0.222125</td>\n",
       "      <td>0.25050</td>\n",
       "    </tr>\n",
       "    <tr>\n",
       "      <th>46</th>\n",
       "      <td>0.217625</td>\n",
       "      <td>0.24775</td>\n",
       "    </tr>\n",
       "    <tr>\n",
       "      <th>47</th>\n",
       "      <td>0.207000</td>\n",
       "      <td>0.23950</td>\n",
       "    </tr>\n",
       "    <tr>\n",
       "      <th>48</th>\n",
       "      <td>0.204875</td>\n",
       "      <td>0.24325</td>\n",
       "    </tr>\n",
       "    <tr>\n",
       "      <th>49</th>\n",
       "      <td>0.206313</td>\n",
       "      <td>0.24525</td>\n",
       "    </tr>\n",
       "  </tbody>\n",
       "</table>\n",
       "</div>"
      ],
      "text/plain": [
       "       train     test\n",
       "45  0.222125  0.25050\n",
       "46  0.217625  0.24775\n",
       "47  0.207000  0.23950\n",
       "48  0.204875  0.24325\n",
       "49  0.206313  0.24525"
      ]
     },
     "execution_count": 86,
     "metadata": {},
     "output_type": "execute_result"
    }
   ],
   "source": [
    "err_df.tail()"
   ]
  },
  {
   "cell_type": "code",
   "execution_count": 87,
   "metadata": {
    "collapsed": false
   },
   "outputs": [],
   "source": [
    "plt.plot(M_list, train_err_list, c= 'red', linestyle='-')\n",
    "plt.plot(M_list, test_err_list, c= 'green', linestyle='-')\n",
    "plt.xlabel('number of weak learners')\n",
    "plt.ylabel('Error')\n",
    "plt.title('Error x Number of models')\n",
    "plt.show()"
   ]
  },
  {
   "cell_type": "code",
   "execution_count": null,
   "metadata": {
    "collapsed": true
   },
   "outputs": [],
   "source": []
  }
 ],
 "metadata": {
  "anaconda-cloud": {},
  "kernelspec": {
   "display_name": "Python [Root]",
   "language": "python",
   "name": "Python [Root]"
  },
  "language_info": {
   "codemirror_mode": {
    "name": "ipython",
    "version": 2
   },
   "file_extension": ".py",
   "mimetype": "text/x-python",
   "name": "python",
   "nbconvert_exporter": "python",
   "pygments_lexer": "ipython2",
   "version": "2.7.12"
  }
 },
 "nbformat": 4,
 "nbformat_minor": 1
}
